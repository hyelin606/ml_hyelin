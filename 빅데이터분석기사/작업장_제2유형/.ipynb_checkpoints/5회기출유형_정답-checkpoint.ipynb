{
 "cells": [
  {
   "cell_type": "markdown",
   "id": "d7b8ca52-64c0-4f49-bea6-ce2e44a92e34",
   "metadata": {},
   "source": [
    "## 문제 1. \n",
    "- 다음은 Used car 데이터 세트이다. 주어진 훈련 데이터 세트를 활용하여 중고차의 판매 가격을 예측하고 해당 예측 결과를 csv 파일로 제출하시오.\n",
    "- 결과 제출 양식 : 제출한 예측값의 rmse 평가지표 값을 통해 영역별 배점에 따라 최종 점수가 반영될 예정"
   ]
  },
  {
   "cell_type": "code",
   "execution_count": 2,
   "id": "eff6fbf8-3fe1-4d00-904e-4c7e0714a693",
   "metadata": {},
   "outputs": [
    {
     "data": {
      "text/html": [
       "<div>\n",
       "<style scoped>\n",
       "    .dataframe tbody tr th:only-of-type {\n",
       "        vertical-align: middle;\n",
       "    }\n",
       "\n",
       "    .dataframe tbody tr th {\n",
       "        vertical-align: top;\n",
       "    }\n",
       "\n",
       "    .dataframe thead th {\n",
       "        text-align: right;\n",
       "    }\n",
       "</style>\n",
       "<table border=\"1\" class=\"dataframe\">\n",
       "  <thead>\n",
       "    <tr style=\"text-align: right;\">\n",
       "      <th></th>\n",
       "      <th>ID</th>\n",
       "      <th>y_pred</th>\n",
       "    </tr>\n",
       "  </thead>\n",
       "  <tbody>\n",
       "    <tr>\n",
       "      <th>0</th>\n",
       "      <td>1</td>\n",
       "      <td>12500</td>\n",
       "    </tr>\n",
       "    <tr>\n",
       "      <th>1</th>\n",
       "      <td>2</td>\n",
       "      <td>16500</td>\n",
       "    </tr>\n",
       "    <tr>\n",
       "      <th>2</th>\n",
       "      <td>3</td>\n",
       "      <td>11000</td>\n",
       "    </tr>\n",
       "  </tbody>\n",
       "</table>\n",
       "</div>"
      ],
      "text/plain": [
       "   ID  y_pred\n",
       "0   1   12500\n",
       "1   2   16500\n",
       "2   3   11000"
      ]
     },
     "execution_count": 2,
     "metadata": {},
     "output_type": "execute_result"
    }
   ],
   "source": [
    "import pandas as pd \n",
    "pd.DataFrame({\n",
    "    \"ID\"  : [1, 2, 3],\n",
    "    \"y_pred\" : [12500, 16500, 11000]\n",
    "})"
   ]
  },
  {
   "cell_type": "code",
   "execution_count": 3,
   "id": "79a85e3c-e0f0-4c42-908f-2d4cc42fe9ea",
   "metadata": {},
   "outputs": [],
   "source": [
    "import pandas as pd \n",
    "X_test = pd.read_csv(\"data/5회/504_x_test.csv\")\n",
    "X_train = pd.read_csv(\"data/5회/504_x_train.csv\")\n",
    "y_train = pd.read_csv(\"data/5회/504_y_train.csv\")"
   ]
  },
  {
   "cell_type": "code",
   "execution_count": 4,
   "id": "8fabe200-99a3-4a2b-8b5f-e0211c8f90cd",
   "metadata": {},
   "outputs": [
    {
     "name": "stdout",
     "output_type": "stream",
     "text": [
      "<class 'pandas.core.frame.DataFrame'>\n",
      "RangeIndex: 7468 entries, 0 to 7467\n",
      "Data columns (total 2 columns):\n",
      " #   Column  Non-Null Count  Dtype\n",
      "---  ------  --------------  -----\n",
      " 0   id      7468 non-null   int64\n",
      " 1   price   7468 non-null   int64\n",
      "dtypes: int64(2)\n",
      "memory usage: 116.8 KB\n"
     ]
    }
   ],
   "source": [
    "y_train.info()"
   ]
  },
  {
   "cell_type": "code",
   "execution_count": 5,
   "id": "8e457f03-0bf8-465e-8034-09f9411a5ce4",
   "metadata": {},
   "outputs": [
    {
     "data": {
      "text/html": [
       "<div>\n",
       "<style scoped>\n",
       "    .dataframe tbody tr th:only-of-type {\n",
       "        vertical-align: middle;\n",
       "    }\n",
       "\n",
       "    .dataframe tbody tr th {\n",
       "        vertical-align: top;\n",
       "    }\n",
       "\n",
       "    .dataframe thead th {\n",
       "        text-align: right;\n",
       "    }\n",
       "</style>\n",
       "<table border=\"1\" class=\"dataframe\">\n",
       "  <thead>\n",
       "    <tr style=\"text-align: right;\">\n",
       "      <th></th>\n",
       "      <th>변수</th>\n",
       "      <th>설명</th>\n",
       "    </tr>\n",
       "  </thead>\n",
       "  <tbody>\n",
       "    <tr>\n",
       "      <th>0</th>\n",
       "      <td>id</td>\n",
       "      <td>중고차 ID 번호</td>\n",
       "    </tr>\n",
       "    <tr>\n",
       "      <th>1</th>\n",
       "      <td>model</td>\n",
       "      <td>차량 모델명</td>\n",
       "    </tr>\n",
       "    <tr>\n",
       "      <th>2</th>\n",
       "      <td>year</td>\n",
       "      <td>차량 등록 연도</td>\n",
       "    </tr>\n",
       "    <tr>\n",
       "      <th>3</th>\n",
       "      <td>transmission</td>\n",
       "      <td>변속기 종류</td>\n",
       "    </tr>\n",
       "    <tr>\n",
       "      <th>4</th>\n",
       "      <td>mileage</td>\n",
       "      <td>주행 거리</td>\n",
       "    </tr>\n",
       "    <tr>\n",
       "      <th>5</th>\n",
       "      <td>fuelType</td>\n",
       "      <td>엔진 연료 종류</td>\n",
       "    </tr>\n",
       "    <tr>\n",
       "      <th>6</th>\n",
       "      <td>tax</td>\n",
       "      <td>도로세</td>\n",
       "    </tr>\n",
       "    <tr>\n",
       "      <th>7</th>\n",
       "      <td>mpg</td>\n",
       "      <td>갤런당 마일(miles per gallon), 연비</td>\n",
       "    </tr>\n",
       "    <tr>\n",
       "      <th>8</th>\n",
       "      <td>engineSize</td>\n",
       "      <td>엔진 크기</td>\n",
       "    </tr>\n",
       "    <tr>\n",
       "      <th>9</th>\n",
       "      <td>price</td>\n",
       "      <td>가격(파운드)</td>\n",
       "    </tr>\n",
       "  </tbody>\n",
       "</table>\n",
       "</div>"
      ],
      "text/plain": [
       "             변수                            설명\n",
       "0            id                     중고차 ID 번호\n",
       "1         model                        차량 모델명\n",
       "2          year                      차량 등록 연도\n",
       "3  transmission                        변속기 종류\n",
       "4       mileage                         주행 거리\n",
       "5      fuelType                      엔진 연료 종류\n",
       "6           tax                           도로세\n",
       "7           mpg  갤런당 마일(miles per gallon), 연비\n",
       "8    engineSize                         엔진 크기\n",
       "9         price                       가격(파운드)"
      ]
     },
     "execution_count": 5,
     "metadata": {},
     "output_type": "execute_result"
    }
   ],
   "source": [
    "import pandas as pd \n",
    "pd.DataFrame({\n",
    "    \"변수\" : list(X_train.columns) + [\"price\"], \n",
    "    \"설명\" : [\n",
    "        \"중고차 ID 번호\", \n",
    "        \"차량 모델명\", \n",
    "        \"차량 등록 연도\", \n",
    "        \"변속기 종류\", \n",
    "        \"주행 거리\", \n",
    "        \"엔진 연료 종류\",\n",
    "        \"도로세\", \n",
    "        \"갤런당 마일(miles per gallon), 연비\", \n",
    "        \"엔진 크기\",   \n",
    "        \"가격(파운드)\"\n",
    "    ]\n",
    "})"
   ]
  },
  {
   "cell_type": "markdown",
   "id": "ef516ee0-0cc1-48dc-a9d4-143d807ba319",
   "metadata": {},
   "source": [
    "## 데이터 확인 "
   ]
  },
  {
   "cell_type": "code",
   "execution_count": 6,
   "id": "7422b942-0812-4fbd-9f6c-a8461c2d8169",
   "metadata": {},
   "outputs": [
    {
     "data": {
      "text/html": [
       "<div>\n",
       "<style scoped>\n",
       "    .dataframe tbody tr th:only-of-type {\n",
       "        vertical-align: middle;\n",
       "    }\n",
       "\n",
       "    .dataframe tbody tr th {\n",
       "        vertical-align: top;\n",
       "    }\n",
       "\n",
       "    .dataframe thead th {\n",
       "        text-align: right;\n",
       "    }\n",
       "</style>\n",
       "<table border=\"1\" class=\"dataframe\">\n",
       "  <thead>\n",
       "    <tr style=\"text-align: right;\">\n",
       "      <th></th>\n",
       "      <th>id</th>\n",
       "      <th>model</th>\n",
       "      <th>year</th>\n",
       "      <th>transmission</th>\n",
       "      <th>mileage</th>\n",
       "      <th>fuelType</th>\n",
       "      <th>tax</th>\n",
       "      <th>mpg</th>\n",
       "      <th>engineSize</th>\n",
       "    </tr>\n",
       "  </thead>\n",
       "  <tbody>\n",
       "    <tr>\n",
       "      <th>0</th>\n",
       "      <td>1</td>\n",
       "      <td>A1</td>\n",
       "      <td>2019</td>\n",
       "      <td>Automatic</td>\n",
       "      <td>3500</td>\n",
       "      <td>Petrol</td>\n",
       "      <td>145</td>\n",
       "      <td>40.9</td>\n",
       "      <td>2.0</td>\n",
       "    </tr>\n",
       "  </tbody>\n",
       "</table>\n",
       "</div>"
      ],
      "text/plain": [
       "   id model  year transmission  mileage fuelType  tax   mpg  engineSize\n",
       "0   1    A1  2019    Automatic     3500   Petrol  145  40.9         2.0"
      ]
     },
     "execution_count": 6,
     "metadata": {},
     "output_type": "execute_result"
    }
   ],
   "source": [
    "X_train.head(1)"
   ]
  },
  {
   "cell_type": "code",
   "execution_count": 7,
   "id": "e0ccb886-efaa-4429-9b14-bad4261a2b93",
   "metadata": {},
   "outputs": [
    {
     "data": {
      "text/html": [
       "<div>\n",
       "<style scoped>\n",
       "    .dataframe tbody tr th:only-of-type {\n",
       "        vertical-align: middle;\n",
       "    }\n",
       "\n",
       "    .dataframe tbody tr th {\n",
       "        vertical-align: top;\n",
       "    }\n",
       "\n",
       "    .dataframe thead th {\n",
       "        text-align: right;\n",
       "    }\n",
       "</style>\n",
       "<table border=\"1\" class=\"dataframe\">\n",
       "  <thead>\n",
       "    <tr style=\"text-align: right;\">\n",
       "      <th></th>\n",
       "      <th>id</th>\n",
       "      <th>model</th>\n",
       "      <th>year</th>\n",
       "      <th>transmission</th>\n",
       "      <th>mileage</th>\n",
       "      <th>fuelType</th>\n",
       "      <th>tax</th>\n",
       "      <th>mpg</th>\n",
       "      <th>engineSize</th>\n",
       "    </tr>\n",
       "  </thead>\n",
       "  <tbody>\n",
       "    <tr>\n",
       "      <th>0</th>\n",
       "      <td>7469</td>\n",
       "      <td>A4</td>\n",
       "      <td>2020</td>\n",
       "      <td>Semi-Auto</td>\n",
       "      <td>4000</td>\n",
       "      <td>Diesel</td>\n",
       "      <td>145</td>\n",
       "      <td>54.3</td>\n",
       "      <td>3.0</td>\n",
       "    </tr>\n",
       "  </tbody>\n",
       "</table>\n",
       "</div>"
      ],
      "text/plain": [
       "     id model  year transmission  mileage fuelType  tax   mpg  engineSize\n",
       "0  7469    A4  2020    Semi-Auto     4000   Diesel  145  54.3         3.0"
      ]
     },
     "execution_count": 7,
     "metadata": {},
     "output_type": "execute_result"
    }
   ],
   "source": [
    "X_test.head(1)"
   ]
  },
  {
   "cell_type": "code",
   "execution_count": 8,
   "id": "f0fb6ed6-cdb7-4294-b7b5-b9fd35f7be24",
   "metadata": {},
   "outputs": [
    {
     "data": {
      "text/html": [
       "<div>\n",
       "<style scoped>\n",
       "    .dataframe tbody tr th:only-of-type {\n",
       "        vertical-align: middle;\n",
       "    }\n",
       "\n",
       "    .dataframe tbody tr th {\n",
       "        vertical-align: top;\n",
       "    }\n",
       "\n",
       "    .dataframe thead th {\n",
       "        text-align: right;\n",
       "    }\n",
       "</style>\n",
       "<table border=\"1\" class=\"dataframe\">\n",
       "  <thead>\n",
       "    <tr style=\"text-align: right;\">\n",
       "      <th></th>\n",
       "      <th>id</th>\n",
       "      <th>price</th>\n",
       "    </tr>\n",
       "  </thead>\n",
       "  <tbody>\n",
       "    <tr>\n",
       "      <th>0</th>\n",
       "      <td>1</td>\n",
       "      <td>21350</td>\n",
       "    </tr>\n",
       "  </tbody>\n",
       "</table>\n",
       "</div>"
      ],
      "text/plain": [
       "   id  price\n",
       "0   1  21350"
      ]
     },
     "execution_count": 8,
     "metadata": {},
     "output_type": "execute_result"
    }
   ],
   "source": [
    "y_train.head(1)"
   ]
  },
  {
   "cell_type": "markdown",
   "id": "fd691e52-ccaa-4264-8713-e00f60ae73e8",
   "metadata": {},
   "source": [
    "## 결측치 확인"
   ]
  },
  {
   "cell_type": "code",
   "execution_count": 9,
   "id": "d66aa5d5-2ad6-4fa8-896e-05734afb83b2",
   "metadata": {},
   "outputs": [
    {
     "data": {
      "text/plain": [
       "id              0\n",
       "model           0\n",
       "year            0\n",
       "transmission    0\n",
       "mileage         0\n",
       "fuelType        0\n",
       "tax             0\n",
       "mpg             0\n",
       "engineSize      0\n",
       "dtype: int64"
      ]
     },
     "execution_count": 9,
     "metadata": {},
     "output_type": "execute_result"
    }
   ],
   "source": [
    "X_train.isnull().sum()"
   ]
  },
  {
   "cell_type": "code",
   "execution_count": 10,
   "id": "3c294f63-510c-41c5-b492-88da02308d1f",
   "metadata": {},
   "outputs": [
    {
     "data": {
      "text/plain": [
       "id              0\n",
       "model           0\n",
       "year            0\n",
       "transmission    0\n",
       "mileage         0\n",
       "fuelType        0\n",
       "tax             0\n",
       "mpg             0\n",
       "engineSize      0\n",
       "dtype: int64"
      ]
     },
     "execution_count": 10,
     "metadata": {},
     "output_type": "execute_result"
    }
   ],
   "source": [
    "X_test.isnull().sum()"
   ]
  },
  {
   "cell_type": "markdown",
   "id": "13e0c0e1-7e63-44da-b49f-65076e7d99e6",
   "metadata": {},
   "source": [
    "## 컬럼 확인"
   ]
  },
  {
   "cell_type": "code",
   "execution_count": 11,
   "id": "bcd467d5-7538-43dd-bf43-6f7b0d8ccbce",
   "metadata": {},
   "outputs": [
    {
     "name": "stdout",
     "output_type": "stream",
     "text": [
      "<class 'pandas.core.frame.DataFrame'>\n",
      "RangeIndex: 7468 entries, 0 to 7467\n",
      "Data columns (total 9 columns):\n",
      " #   Column        Non-Null Count  Dtype  \n",
      "---  ------        --------------  -----  \n",
      " 0   id            7468 non-null   int64  \n",
      " 1   model         7468 non-null   object \n",
      " 2   year          7468 non-null   int64  \n",
      " 3   transmission  7468 non-null   object \n",
      " 4   mileage       7468 non-null   int64  \n",
      " 5   fuelType      7468 non-null   object \n",
      " 6   tax           7468 non-null   int64  \n",
      " 7   mpg           7468 non-null   float64\n",
      " 8   engineSize    7468 non-null   float64\n",
      "dtypes: float64(2), int64(4), object(3)\n",
      "memory usage: 525.2+ KB\n"
     ]
    }
   ],
   "source": [
    "X_train.info()"
   ]
  },
  {
   "cell_type": "code",
   "execution_count": 12,
   "id": "166791b0-d736-42a9-a9fe-337924e24fee",
   "metadata": {},
   "outputs": [
    {
     "name": "stdout",
     "output_type": "stream",
     "text": [
      "<class 'pandas.core.frame.DataFrame'>\n",
      "RangeIndex: 3200 entries, 0 to 3199\n",
      "Data columns (total 9 columns):\n",
      " #   Column        Non-Null Count  Dtype  \n",
      "---  ------        --------------  -----  \n",
      " 0   id            3200 non-null   int64  \n",
      " 1   model         3200 non-null   object \n",
      " 2   year          3200 non-null   int64  \n",
      " 3   transmission  3200 non-null   object \n",
      " 4   mileage       3200 non-null   int64  \n",
      " 5   fuelType      3200 non-null   object \n",
      " 6   tax           3200 non-null   int64  \n",
      " 7   mpg           3200 non-null   float64\n",
      " 8   engineSize    3200 non-null   float64\n",
      "dtypes: float64(2), int64(4), object(3)\n",
      "memory usage: 225.1+ KB\n"
     ]
    }
   ],
   "source": [
    "X_test.info()"
   ]
  },
  {
   "cell_type": "code",
   "execution_count": 13,
   "id": "15ff1169-2ea5-4026-8bd3-b51e2108e0a1",
   "metadata": {},
   "outputs": [
    {
     "data": {
      "text/plain": [
       "Diesel    3966\n",
       "Petrol    3484\n",
       "Hybrid      18\n",
       "Name: fuelType, dtype: int64"
      ]
     },
     "execution_count": 13,
     "metadata": {},
     "output_type": "execute_result"
    }
   ],
   "source": [
    "X_train['fuelType'].value_counts()"
   ]
  },
  {
   "cell_type": "code",
   "execution_count": 14,
   "id": "a0699cf9-6540-46b7-9aaa-a15ba003a07f",
   "metadata": {},
   "outputs": [
    {
     "data": {
      "text/plain": [
       " A3     1361\n",
       " Q3     1010\n",
       " A4      968\n",
       " A1      952\n",
       " Q5      613\n",
       " A5      609\n",
       " Q2      576\n",
       " A6      522\n",
       " Q7      257\n",
       " TT      233\n",
       " A7       86\n",
       " A8       78\n",
       " Q8       50\n",
       " RS6      24\n",
       " RS4      24\n",
       " RS5      23\n",
       " RS3      21\n",
       " R8       17\n",
       " SQ5      13\n",
       " S4        9\n",
       " S3        9\n",
       " SQ7       4\n",
       " S8        4\n",
       " S5        3\n",
       " A2        1\n",
       " RS7       1\n",
       "Name: model, dtype: int64"
      ]
     },
     "execution_count": 14,
     "metadata": {},
     "output_type": "execute_result"
    }
   ],
   "source": [
    "X_train['model'].value_counts()"
   ]
  },
  {
   "cell_type": "markdown",
   "id": "f37a98a7-a433-4d67-a15a-bd5bb89d8fa6",
   "metadata": {},
   "source": [
    "- fuelType 기반으로 분리한다. 데이터셋 분리 한다.\n",
    "- model은 제거한다. "
   ]
  },
  {
   "cell_type": "code",
   "execution_count": 15,
   "id": "e24acbc5-6d17-4d61-b80c-5a1c06118e4a",
   "metadata": {},
   "outputs": [
    {
     "data": {
      "text/plain": [
       "((7468, 8), (3200, 8))"
      ]
     },
     "execution_count": 15,
     "metadata": {},
     "output_type": "execute_result"
    }
   ],
   "source": [
    "X_train = X_train.drop('model', axis = 1)\n",
    "X_test = X_test.drop('model', axis = 1)\n",
    "X_train.shape, X_test.shape"
   ]
  },
  {
   "cell_type": "code",
   "execution_count": 16,
   "id": "e290d6ba-859e-48cd-b780-e8b488811f79",
   "metadata": {},
   "outputs": [
    {
     "data": {
      "text/html": [
       "<div>\n",
       "<style scoped>\n",
       "    .dataframe tbody tr th:only-of-type {\n",
       "        vertical-align: middle;\n",
       "    }\n",
       "\n",
       "    .dataframe tbody tr th {\n",
       "        vertical-align: top;\n",
       "    }\n",
       "\n",
       "    .dataframe thead th {\n",
       "        text-align: right;\n",
       "    }\n",
       "</style>\n",
       "<table border=\"1\" class=\"dataframe\">\n",
       "  <thead>\n",
       "    <tr style=\"text-align: right;\">\n",
       "      <th></th>\n",
       "      <th>id</th>\n",
       "      <th>year</th>\n",
       "      <th>mileage</th>\n",
       "      <th>tax</th>\n",
       "      <th>mpg</th>\n",
       "      <th>engineSize</th>\n",
       "    </tr>\n",
       "  </thead>\n",
       "  <tbody>\n",
       "    <tr>\n",
       "      <th>count</th>\n",
       "      <td>7468.000000</td>\n",
       "      <td>7468.000000</td>\n",
       "      <td>7468.000000</td>\n",
       "      <td>7468.000000</td>\n",
       "      <td>7468.000000</td>\n",
       "      <td>7468.000000</td>\n",
       "    </tr>\n",
       "    <tr>\n",
       "      <th>mean</th>\n",
       "      <td>3734.500000</td>\n",
       "      <td>2017.084762</td>\n",
       "      <td>24978.337306</td>\n",
       "      <td>125.513524</td>\n",
       "      <td>50.980704</td>\n",
       "      <td>1.923741</td>\n",
       "    </tr>\n",
       "    <tr>\n",
       "      <th>std</th>\n",
       "      <td>2155.970238</td>\n",
       "      <td>2.143985</td>\n",
       "      <td>23408.243740</td>\n",
       "      <td>66.791388</td>\n",
       "      <td>12.781446</td>\n",
       "      <td>0.594344</td>\n",
       "    </tr>\n",
       "    <tr>\n",
       "      <th>min</th>\n",
       "      <td>1.000000</td>\n",
       "      <td>1998.000000</td>\n",
       "      <td>1.000000</td>\n",
       "      <td>0.000000</td>\n",
       "      <td>19.300000</td>\n",
       "      <td>0.000000</td>\n",
       "    </tr>\n",
       "    <tr>\n",
       "      <th>25%</th>\n",
       "      <td>1867.750000</td>\n",
       "      <td>2016.000000</td>\n",
       "      <td>6000.000000</td>\n",
       "      <td>125.000000</td>\n",
       "      <td>40.900000</td>\n",
       "      <td>1.500000</td>\n",
       "    </tr>\n",
       "    <tr>\n",
       "      <th>50%</th>\n",
       "      <td>3734.500000</td>\n",
       "      <td>2017.000000</td>\n",
       "      <td>19276.500000</td>\n",
       "      <td>145.000000</td>\n",
       "      <td>50.400000</td>\n",
       "      <td>2.000000</td>\n",
       "    </tr>\n",
       "    <tr>\n",
       "      <th>75%</th>\n",
       "      <td>5601.250000</td>\n",
       "      <td>2019.000000</td>\n",
       "      <td>36722.750000</td>\n",
       "      <td>145.000000</td>\n",
       "      <td>58.900000</td>\n",
       "      <td>2.000000</td>\n",
       "    </tr>\n",
       "    <tr>\n",
       "      <th>max</th>\n",
       "      <td>7468.000000</td>\n",
       "      <td>2020.000000</td>\n",
       "      <td>168017.000000</td>\n",
       "      <td>580.000000</td>\n",
       "      <td>188.300000</td>\n",
       "      <td>6.300000</td>\n",
       "    </tr>\n",
       "  </tbody>\n",
       "</table>\n",
       "</div>"
      ],
      "text/plain": [
       "                id         year        mileage          tax          mpg  \\\n",
       "count  7468.000000  7468.000000    7468.000000  7468.000000  7468.000000   \n",
       "mean   3734.500000  2017.084762   24978.337306   125.513524    50.980704   \n",
       "std    2155.970238     2.143985   23408.243740    66.791388    12.781446   \n",
       "min       1.000000  1998.000000       1.000000     0.000000    19.300000   \n",
       "25%    1867.750000  2016.000000    6000.000000   125.000000    40.900000   \n",
       "50%    3734.500000  2017.000000   19276.500000   145.000000    50.400000   \n",
       "75%    5601.250000  2019.000000   36722.750000   145.000000    58.900000   \n",
       "max    7468.000000  2020.000000  168017.000000   580.000000   188.300000   \n",
       "\n",
       "        engineSize  \n",
       "count  7468.000000  \n",
       "mean      1.923741  \n",
       "std       0.594344  \n",
       "min       0.000000  \n",
       "25%       1.500000  \n",
       "50%       2.000000  \n",
       "75%       2.000000  \n",
       "max       6.300000  "
      ]
     },
     "execution_count": 16,
     "metadata": {},
     "output_type": "execute_result"
    }
   ],
   "source": [
    "X_train.describe()"
   ]
  },
  {
   "cell_type": "code",
   "execution_count": 17,
   "id": "ca6426b0-b42a-42a5-8689-6be0ab2839c9",
   "metadata": {},
   "outputs": [
    {
     "name": "stdout",
     "output_type": "stream",
     "text": [
      "<class 'pandas.core.frame.DataFrame'>\n",
      "RangeIndex: 7468 entries, 0 to 7467\n",
      "Data columns (total 8 columns):\n",
      " #   Column        Non-Null Count  Dtype  \n",
      "---  ------        --------------  -----  \n",
      " 0   id            7468 non-null   int64  \n",
      " 1   year          7468 non-null   int64  \n",
      " 2   transmission  7468 non-null   object \n",
      " 3   mileage       7468 non-null   int64  \n",
      " 4   fuelType      7468 non-null   object \n",
      " 5   tax           7468 non-null   int64  \n",
      " 6   mpg           7468 non-null   float64\n",
      " 7   engineSize    7468 non-null   float64\n",
      "dtypes: float64(2), int64(4), object(2)\n",
      "memory usage: 466.9+ KB\n"
     ]
    }
   ],
   "source": [
    "X_train.info()"
   ]
  },
  {
   "cell_type": "markdown",
   "id": "f332d92c-04c1-48b4-a5d5-70e6dba736de",
   "metadata": {},
   "source": [
    "- MinMaxScaler : mileage, tax, mpg\n",
    "- OneHotEncoder : transmission, fuelType "
   ]
  },
  {
   "cell_type": "markdown",
   "id": "13810de8-df1e-4736-bbd6-f9a4a726bca1",
   "metadata": {},
   "source": [
    "## ID 제거"
   ]
  },
  {
   "cell_type": "code",
   "execution_count": 18,
   "id": "440c11fa-93ea-4ed5-854a-67baf5d92413",
   "metadata": {},
   "outputs": [
    {
     "data": {
      "text/plain": [
       "((7468, 7), (3200, 7))"
      ]
     },
     "execution_count": 18,
     "metadata": {},
     "output_type": "execute_result"
    }
   ],
   "source": [
    "X_train_id = X_train.pop('id')\n",
    "X_test_id = X_test.pop('id')\n",
    "\n",
    "X_train.shape, X_test.shape"
   ]
  },
  {
   "cell_type": "markdown",
   "id": "40ec32d1-769e-4e44-a61d-97b6c4e5a9fe",
   "metadata": {},
   "source": [
    "## 컬럼 추출하기"
   ]
  },
  {
   "cell_type": "code",
   "execution_count": 19,
   "id": "f2eec19a-05c6-457b-bbbd-72ad2f7f1dc0",
   "metadata": {},
   "outputs": [
    {
     "name": "stdout",
     "output_type": "stream",
     "text": [
      "['transmission', 'fuelType']\n",
      "['year', 'mileage', 'tax', 'mpg', 'engineSize']\n"
     ]
    }
   ],
   "source": [
    "import numpy as np\n",
    "cat_cols = list(X_train.select_dtypes(exclude = np.number).columns)\n",
    "num_cols = list(X_train.select_dtypes(include = np.number).columns)\n",
    "\n",
    "print(cat_cols)\n",
    "print(num_cols)"
   ]
  },
  {
   "cell_type": "code",
   "execution_count": 20,
   "id": "23c75045-9642-44ce-a8d9-dce4375a5d59",
   "metadata": {},
   "outputs": [
    {
     "data": {
      "text/plain": [
       "['mileage', 'tax', 'mpg']"
      ]
     },
     "execution_count": 20,
     "metadata": {},
     "output_type": "execute_result"
    }
   ],
   "source": [
    "num_cols.remove('year')\n",
    "num_cols.remove('engineSize')\n",
    "num_cols"
   ]
  },
  {
   "cell_type": "markdown",
   "id": "7b10a8b2-2cf6-4e7e-af10-6a4a60898c24",
   "metadata": {},
   "source": [
    "## 데이터셋 분리"
   ]
  },
  {
   "cell_type": "code",
   "execution_count": 21,
   "id": "ac88811c-3148-4714-93b1-5243fa15d3b9",
   "metadata": {},
   "outputs": [
    {
     "data": {
      "text/plain": [
       "((5227, 7), (2241, 7), (5227,), (2241,))"
      ]
     },
     "execution_count": 21,
     "metadata": {},
     "output_type": "execute_result"
    }
   ],
   "source": [
    "from sklearn.model_selection import train_test_split\n",
    "X_tr, X_val, y_tr, y_val = train_test_split(\n",
    "    X_train, y_train['price'], \n",
    "    stratify = X_train['fuelType'], \n",
    "    test_size = 0.3, \n",
    "    random_state=42\n",
    ")\n",
    "\n",
    "X_tr.shape, X_val.shape, y_tr.shape, y_val.shape"
   ]
  },
  {
   "cell_type": "markdown",
   "id": "683ecbe0-fd90-444f-bb6e-bc5b4d3656df",
   "metadata": {},
   "source": [
    "## 모델 학습"
   ]
  },
  {
   "cell_type": "code",
   "execution_count": 22,
   "id": "6cb8127b-54b0-41ac-80e9-415f8b57060a",
   "metadata": {},
   "outputs": [
    {
     "data": {
      "text/plain": [
       "dict_keys(['explained_variance', 'r2', 'max_error', 'neg_median_absolute_error', 'neg_mean_absolute_error', 'neg_mean_absolute_percentage_error', 'neg_mean_squared_error', 'neg_mean_squared_log_error', 'neg_root_mean_squared_error', 'neg_mean_poisson_deviance', 'neg_mean_gamma_deviance', 'accuracy', 'top_k_accuracy', 'roc_auc', 'roc_auc_ovr', 'roc_auc_ovo', 'roc_auc_ovr_weighted', 'roc_auc_ovo_weighted', 'balanced_accuracy', 'average_precision', 'neg_log_loss', 'neg_brier_score', 'adjusted_rand_score', 'rand_score', 'homogeneity_score', 'completeness_score', 'v_measure_score', 'mutual_info_score', 'adjusted_mutual_info_score', 'normalized_mutual_info_score', 'fowlkes_mallows_score', 'precision', 'precision_macro', 'precision_micro', 'precision_samples', 'precision_weighted', 'recall', 'recall_macro', 'recall_micro', 'recall_samples', 'recall_weighted', 'f1', 'f1_macro', 'f1_micro', 'f1_samples', 'f1_weighted', 'jaccard', 'jaccard_macro', 'jaccard_micro', 'jaccard_samples', 'jaccard_weighted'])"
      ]
     },
     "execution_count": 22,
     "metadata": {},
     "output_type": "execute_result"
    }
   ],
   "source": [
    "import sklearn\n",
    "sklearn.metrics.SCORERS.keys()"
   ]
  },
  {
   "cell_type": "code",
   "execution_count": 41,
   "id": "1369b187-98c0-4731-9595-2547b40ea901",
   "metadata": {},
   "outputs": [
    {
     "name": "stdout",
     "output_type": "stream",
     "text": [
      "Fitting 5 folds for each of 10 candidates, totalling 50 fits\n"
     ]
    },
    {
     "data": {
      "text/plain": [
       "RandomizedSearchCV(cv=5,\n",
       "                   estimator=Pipeline(steps=[('preprocessor',\n",
       "                                              ColumnTransformer(remainder='passthrough',\n",
       "                                                                transformers=[('scaler',\n",
       "                                                                               MinMaxScaler(),\n",
       "                                                                               ['mileage',\n",
       "                                                                                'tax',\n",
       "                                                                                'mpg']),\n",
       "                                                                              ('ohc_encoder',\n",
       "                                                                               OneHotEncoder(),\n",
       "                                                                               ['transmission',\n",
       "                                                                                'fuelType'])])),\n",
       "                                             ('reg',\n",
       "                                              LGBMRegressor(random_state=42))]),\n",
       "                   n_jobs=1,\n",
       "                   param_distributions={'reg__learning_rate': <scipy.stats._distn_inf...\n",
       "       167, 168, 169, 170, 171, 172, 173, 174, 175, 176, 177, 178, 179,\n",
       "       180, 181, 182, 183, 184, 185, 186, 187, 188, 189, 190, 191, 192,\n",
       "       193, 194, 195, 196, 197, 198, 199]),\n",
       "                                        'reg__num_leaves': array([20, 21, 22, 23, 24, 25, 26, 27, 28, 29, 30, 31, 32, 33, 34, 35, 36,\n",
       "       37, 38, 39, 40, 41, 42, 43, 44, 45, 46, 47, 48, 49]),\n",
       "                                        'reg__subsample': array([0.6, 0.7, 0.8, 0.9])},\n",
       "                   scoring=make_scorer(cal_rmse, greater_is_better=False),\n",
       "                   verbose=1)"
      ]
     },
     "execution_count": 41,
     "metadata": {},
     "output_type": "execute_result"
    }
   ],
   "source": [
    "from sklearn.preprocessing import MinMaxScaler\n",
    "from sklearn.preprocessing import OneHotEncoder\n",
    "\n",
    "from sklearn.compose import ColumnTransformer\n",
    "from sklearn.pipeline import Pipeline\n",
    "from lightgbm import LGBMRegressor\n",
    "from sklearn.model_selection import RandomizedSearchCV\n",
    "from sklearn.metrics import make_scorer, mean_squared_error\n",
    "\n",
    "from sklearn.utils.fixes import loguniform\n",
    "\n",
    "def cal_rmse(y_tr, pred):\n",
    "    return np.sqrt(mean_squared_error(y_tr, pred))\n",
    "\n",
    "param_grid = {\n",
    "    \"reg__learning_rate\" : loguniform(0.001, 0.1), \n",
    "    \"reg__n_estimators\" : np.arange(50, 200), \n",
    "    \"reg__max_depth\" : np.arange(3, 30, 3), \n",
    "    \"reg__num_leaves\" : np.arange(20, 50), \n",
    "    \"reg__min_split_gain\" : np.arange(0, 1.1, 0.1), \n",
    "    \"reg__subsample\" : np.arange(0.6, 1.0, 0.1)\n",
    "}\n",
    "\n",
    "column_transformer = ColumnTransformer([\n",
    "    (\"scaler\", MinMaxScaler(), num_cols), \n",
    "    (\"ohc_encoder\", OneHotEncoder(), cat_cols)\n",
    "], remainder = \"passthrough\")\n",
    "\n",
    "pipeline = Pipeline([\n",
    "    (\"preprocessor\", column_transformer), \n",
    "    (\"reg\", LGBMRegressor(random_state = 42))\n",
    "])\n",
    "\n",
    "random_search = RandomizedSearchCV(\n",
    "    estimator = pipeline, \n",
    "    param_distributions = param_grid, \n",
    "    n_iter = 10, \n",
    "    # scoring=\"neg_mean_squared_error\", \n",
    "    scoring = make_scorer(cal_rmse, greater_is_better = False),\n",
    "    cv = 5, \n",
    "    verbose=1, \n",
    "    n_jobs=1\n",
    ")\n",
    "\n",
    "random_search.fit(X_tr, y_tr)"
   ]
  },
  {
   "cell_type": "code",
   "execution_count": 38,
   "id": "b583d518-ed75-4c28-b6e5-40fe7456bece",
   "metadata": {},
   "outputs": [
    {
     "data": {
      "text/plain": [
       "'train: 3044.2329, valid: 3219.0465'"
      ]
     },
     "execution_count": 38,
     "metadata": {},
     "output_type": "execute_result"
    }
   ],
   "source": [
    "def get_scores(model, X_tr, X_val, y_tr, y_val):\n",
    "    y_tr_pred = model.predict(X_tr)\n",
    "    y_val_pred = model.predict(X_val)\n",
    "    tr_score = cal_rmse(y_tr, y_tr_pred)\n",
    "    val_score = cal_rmse(y_val, y_val_pred)\n",
    "    return f'train: {round(tr_score, 4)}, valid: {round(val_score, 4)}'\n",
    "\n",
    "get_scores(random_search, X_tr, X_val, y_tr, y_val)"
   ]
  },
  {
   "cell_type": "code",
   "execution_count": 42,
   "id": "c8cf6a8a-fa23-4d2d-a4ae-aa87fd690c73",
   "metadata": {},
   "outputs": [
    {
     "name": "stdout",
     "output_type": "stream",
     "text": [
      "Best_Params: {'reg__learning_rate': 0.018543574394873173, 'reg__max_depth': 15, 'reg__min_split_gain': 0.8, 'reg__n_estimators': 191, 'reg__num_leaves': 28, 'reg__subsample': 0.7999999999999999}\n",
      "Best_Scores: -3372.8367254800105\n"
     ]
    }
   ],
   "source": [
    "best_params = random_search.best_params_\n",
    "best_score = random_search.best_score_\n",
    "\n",
    "print(\"Best_Params:\", best_params)\n",
    "print(\"Best_Scores:\", best_score)"
   ]
  },
  {
   "cell_type": "markdown",
   "id": "f14e49aa-4178-41c9-89bb-0b085c06fe4d",
   "metadata": {},
   "source": [
    "## 결과 제출"
   ]
  },
  {
   "cell_type": "code",
   "execution_count": 48,
   "id": "1198292d-d535-44e2-84b6-906e3eb56939",
   "metadata": {},
   "outputs": [
    {
     "data": {
      "text/plain": [
       "array([37415.46614464, 16798.01262842, 33525.54738189, ...,\n",
       "       18056.13385228, 24400.71827653, 17486.26001988])"
      ]
     },
     "execution_count": 48,
     "metadata": {},
     "output_type": "execute_result"
    }
   ],
   "source": [
    "final_preds = random_search.predict(X_test)\n",
    "final_preds"
   ]
  },
  {
   "cell_type": "code",
   "execution_count": 50,
   "id": "72537e1d-8368-45a5-95a2-1e7dd49fbaa9",
   "metadata": {},
   "outputs": [
    {
     "data": {
      "text/html": [
       "<div>\n",
       "<style scoped>\n",
       "    .dataframe tbody tr th:only-of-type {\n",
       "        vertical-align: middle;\n",
       "    }\n",
       "\n",
       "    .dataframe tbody tr th {\n",
       "        vertical-align: top;\n",
       "    }\n",
       "\n",
       "    .dataframe thead th {\n",
       "        text-align: right;\n",
       "    }\n",
       "</style>\n",
       "<table border=\"1\" class=\"dataframe\">\n",
       "  <thead>\n",
       "    <tr style=\"text-align: right;\">\n",
       "      <th></th>\n",
       "      <th>id</th>\n",
       "      <th>price</th>\n",
       "    </tr>\n",
       "  </thead>\n",
       "  <tbody>\n",
       "    <tr>\n",
       "      <th>0</th>\n",
       "      <td>7469</td>\n",
       "      <td>37415.0</td>\n",
       "    </tr>\n",
       "    <tr>\n",
       "      <th>1</th>\n",
       "      <td>7470</td>\n",
       "      <td>16798.0</td>\n",
       "    </tr>\n",
       "    <tr>\n",
       "      <th>2</th>\n",
       "      <td>7471</td>\n",
       "      <td>33526.0</td>\n",
       "    </tr>\n",
       "    <tr>\n",
       "      <th>3</th>\n",
       "      <td>7472</td>\n",
       "      <td>17752.0</td>\n",
       "    </tr>\n",
       "    <tr>\n",
       "      <th>4</th>\n",
       "      <td>7473</td>\n",
       "      <td>13994.0</td>\n",
       "    </tr>\n",
       "    <tr>\n",
       "      <th>...</th>\n",
       "      <td>...</td>\n",
       "      <td>...</td>\n",
       "    </tr>\n",
       "    <tr>\n",
       "      <th>3195</th>\n",
       "      <td>10664</td>\n",
       "      <td>18190.0</td>\n",
       "    </tr>\n",
       "    <tr>\n",
       "      <th>3196</th>\n",
       "      <td>10665</td>\n",
       "      <td>12113.0</td>\n",
       "    </tr>\n",
       "    <tr>\n",
       "      <th>3197</th>\n",
       "      <td>10666</td>\n",
       "      <td>18056.0</td>\n",
       "    </tr>\n",
       "    <tr>\n",
       "      <th>3198</th>\n",
       "      <td>10667</td>\n",
       "      <td>24401.0</td>\n",
       "    </tr>\n",
       "    <tr>\n",
       "      <th>3199</th>\n",
       "      <td>10668</td>\n",
       "      <td>17486.0</td>\n",
       "    </tr>\n",
       "  </tbody>\n",
       "</table>\n",
       "<p>3200 rows × 2 columns</p>\n",
       "</div>"
      ],
      "text/plain": [
       "         id    price\n",
       "0      7469  37415.0\n",
       "1      7470  16798.0\n",
       "2      7471  33526.0\n",
       "3      7472  17752.0\n",
       "4      7473  13994.0\n",
       "...     ...      ...\n",
       "3195  10664  18190.0\n",
       "3196  10665  12113.0\n",
       "3197  10666  18056.0\n",
       "3198  10667  24401.0\n",
       "3199  10668  17486.0\n",
       "\n",
       "[3200 rows x 2 columns]"
      ]
     },
     "execution_count": 50,
     "metadata": {},
     "output_type": "execute_result"
    }
   ],
   "source": [
    "result = pd.DataFrame({\"id\" : X_test_id, \"price\": np.round(final_preds, 0)})\n",
    "result"
   ]
  },
  {
   "cell_type": "code",
   "execution_count": null,
   "id": "4c7cab28-91e2-40e2-b7f5-692c63232acf",
   "metadata": {},
   "outputs": [],
   "source": []
  }
 ],
 "metadata": {
  "kernelspec": {
   "display_name": "Python 3 (ipykernel)",
   "language": "python",
   "name": "python3"
  },
  "language_info": {
   "codemirror_mode": {
    "name": "ipython",
    "version": 3
   },
   "file_extension": ".py",
   "mimetype": "text/x-python",
   "name": "python",
   "nbconvert_exporter": "python",
   "pygments_lexer": "ipython3",
   "version": "3.9.13"
  }
 },
 "nbformat": 4,
 "nbformat_minor": 5
}
